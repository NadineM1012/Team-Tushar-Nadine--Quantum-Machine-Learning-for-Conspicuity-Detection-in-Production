{
  "cells": [
    {
      "cell_type": "code",
      "execution_count": 1,
      "metadata": {
        "colab": {
          "base_uri": "https://localhost:8080/"
        },
        "id": "NAHUUZ9fw6rS",
        "outputId": "ac9198d4-fecf-40fe-afcd-698225b2e255"
      },
      "outputs": [],
      "source": [
        "# install libraries (quietly)\n",
        "!pip install pennylane -q\n",
        "!pip install kaggle -q"
      ]
    },
    {
      "cell_type": "code",
      "execution_count": 1,
      "metadata": {
        "colab": {
          "base_uri": "https://localhost:8080/"
        },
        "id": "iXBKsfzex62m",
        "outputId": "b5df76a5-b92c-4a37-9964-41840ac3ec0f"
      },
      "outputs": [],
      "source": [
        "# Importing libraries\n",
        "import json, os, time, copy, torch, pandas as pd, torchvision.transforms as transforms, pennylane as qml, torch.nn as nn, torch.optim as optim, torch.nn.functional as F\n",
        "from random import sample\n",
        "from PIL import Image\n",
        "from torch.utils.data import Dataset\n",
        "from torch.utils.data import Dataset, DataLoader, random_split\n",
        "from pennylane import numpy as np\n",
        "from pennylane.templates import RandomLayers\n",
        "from torch.optim.lr_scheduler import StepLR,ReduceLROnPlateau, OneCycleLR, CosineAnnealingLR\n",
        "from sklearn.metrics import f1_score, roc_auc_score, precision_score, recall_score, confusion_matrix\n",
        "import matplotlib.pyplot as plt\n",
        "import seaborn as sns\n",
        "# Set the seed\n",
        "torch.manual_seed(42)\n",
        "\n",
        "import warnings\n",
        "warnings.filterwarnings('ignore')"
      ]
    },
    {
      "cell_type": "code",
      "execution_count": 3,
      "metadata": {
        "colab": {
          "base_uri": "https://localhost:8080/"
        },
        "collapsed": true,
        "id": "dDKsRtX8xIEr",
        "outputId": "b819afef-247b-49f3-8c3e-0dd1884f05ec"
      },
      "outputs": [],
      "source": [
        "# # Data donwload and unzip\n",
        "# !kaggle datasets download -d \"danielbacioiu/tig-aluminium-5083\"\n",
        "# !unzip tig-aluminium-5083.zip"
      ]
    },
    {
      "cell_type": "code",
      "execution_count": 2,
      "metadata": {
        "id": "YNs-SawRxNzd"
      },
      "outputs": [],
      "source": [
        "# Open the training file\n",
        "#f = open('/content/al5083/train/train.json') # Colab version\n",
        "f = open('al5083/train/train.json') # Local version\n",
        "data = json.load(f)\n",
        "\n",
        "# Create a dictionary to store the data\n",
        "data_dict = {0:[], 1:[], 2:[],\n",
        "             3:[], 4: [], 5:[]}\n",
        "for id, (key, value) in enumerate(data.items()):\n",
        "      data_dict[value].append(key)\n",
        "\n",
        "data_dict.pop(4)\n",
        "data_dict.pop(5)\n",
        "# Close the file\n",
        "f.close()"
      ]
    },
    {
      "cell_type": "code",
      "execution_count": 3,
      "metadata": {
        "id": "jp3p1MH-yIFQ"
      },
      "outputs": [],
      "source": [
        "def sample_portion_each(data_dict, num_samples = 200):\n",
        "    # Sample a portion of each class\n",
        "    sampled_dict = {}\n",
        "    for key, value in data_dict.items():\n",
        "        if len(value) >= num_samples:\n",
        "            sampled_dict[key] = sample(value, num_samples)\n",
        "        else:\n",
        "            sampled_dict[key] = value\n",
        "    return sampled_dict\n",
        "\n",
        "# Sampled dictionary\n",
        "sampled_dict = sample_portion_each(data_dict, 200)\n",
        "\n",
        "# Create a dataframe for our dataset\n",
        "df = pd.DataFrame([(k, v) for k, values in sampled_dict.items() for v in values], columns=['label', 'img'])\n"
      ]
    },
    {
      "cell_type": "code",
      "execution_count": 4,
      "metadata": {
        "id": "294BCCBUzeS3"
      },
      "outputs": [],
      "source": [
        "# Dataset class\n",
        "class Aluminium5083Dataset(Dataset):\n",
        "    def __init__(self, df, transforms=None):\n",
        "        self.df = df\n",
        "        self.transforms = transforms\n",
        "\n",
        "    def __len__(self):\n",
        "        return len(self.df)\n",
        "\n",
        "    def __getitem__(self, idx):\n",
        "        # Get the label corresponding to the Id\n",
        "        label = self.df.iloc[idx]['label']\n",
        "        # Get the image path\n",
        "        img_path = os.path.join('al5083/train/', self.df.iloc[idx]['img'])\n",
        "        # Open the image\n",
        "        img = Image.open(img_path)\n",
        "        # Binary labelling\n",
        "        #if label != 0:\n",
        "            #label = 1\n",
        "        # Convert the image to tensor\n",
        "        if self.transforms:\n",
        "            img = self.transforms(img)\n",
        "        # Return the image and label\n",
        "        return img, label"
      ]
    },
    {
      "cell_type": "code",
      "execution_count": 5,
      "metadata": {
        "id": "FuHSdbGX0qsV"
      },
      "outputs": [],
      "source": [
        "# Transform data to tensor, resize and renormalize it\n",
        "transforms = transforms.Compose([transforms.ToTensor(),\n",
        "                                transforms.Resize((28, 28),antialias=False),\n",
        "                                transforms.Normalize([0.2428], [0.1344]),\n",
        "                                ])"
      ]
    },
    {
      "cell_type": "code",
      "execution_count": 6,
      "metadata": {
        "id": "85p-zYeX2L1g"
      },
      "outputs": [],
      "source": [
        "# Create the transformed dataset\n",
        "dataset = Aluminium5083Dataset(df=df, transforms=transforms)"
      ]
    },
    {
      "cell_type": "code",
      "execution_count": 7,
      "metadata": {
        "id": "uZEZHq282Si-"
      },
      "outputs": [],
      "source": [
        "# Create a 70-20-10 split for train-validation-test\n",
        "train_size = int(0.7 * len(dataset))\n",
        "val_size = int(0.2 * len(dataset))\n",
        "test_size = len(dataset) - train_size - val_size\n",
        "\n",
        "batch_size = 64\n",
        "train_dataset, val_dataset, test_dataset = random_split(dataset, [train_size, val_size, test_size]) # Split the dataset\n",
        "\n",
        "train_loader = DataLoader(train_dataset, batch_size=batch_size, shuffle=True)  # Create a DataLoader for the train set\n",
        "val_loader = DataLoader(val_dataset, batch_size=batch_size, shuffle=False)  # Create a DataLoader for the validation set\n",
        "test_loader = DataLoader(test_dataset, batch_size=batch_size, shuffle=False)  # Create a DataLoader for the test set\n",
        "\n",
        "dataloaders = {'train': train_loader, 'validation': val_loader, 'test':test_loader} # Create a dictionary for the dataloaders"
      ]
    },
    {
      "cell_type": "code",
      "execution_count": 8,
      "metadata": {
        "id": "Du6Sx_NU3EVR"
      },
      "outputs": [],
      "source": [
        "device = torch.device(\"cuda\" if torch.cuda.is_available() else \"cpu\")\n",
        "dev = qml.device(\"lightning.qubit\", wires=4)\n",
        "# Set the number of layers and the width of the circuit\n",
        "n_layers = 3\n",
        "n_wires = 4\n",
        "\n",
        "class Quanv(nn.Module):\n",
        "    def __init__(self,n_layers):\n",
        "        super(Quanv, self).__init__()\n",
        "        # Number of layers\n",
        "        self.n_layers = n_layers\n",
        "        # Create a quantum circuit\n",
        "        @qml.qnode(dev,interface=\"torch\")\n",
        "        def circuit(inputs,weights):\n",
        "            #qml.AngleEmbedding(inputs, wires=range(n_wires))\n",
        "            qml.IQPEmbedding(inputs.flatten(), wires = range(n_wires))\n",
        "            qml.BasicEntanglerLayers(weights, wires=range(n_wires))\n",
        "            # Measurement\n",
        "            return [qml.expval(qml.PauliZ(i)) for i in range(n_wires)]\n",
        "\n",
        "        # Add a torch layer using weight shapes\n",
        "        weight_shapes = {\"weights\": [self.n_layers,n_wires]}\n",
        "        #weight_shapes = {\"weights\": qml.StronglyEntanglingLayers.shape(n_layers=2, n_wires=n_wires)}\n",
        "        self.circuit = qml.qnn.TorchLayer(circuit, weight_shapes=weight_shapes)\n",
        "\n",
        "\n",
        "    def forward(self, x):\n",
        "        # Get the batch size, height, and width\n",
        "        bs, ch, h, w = x.size()\n",
        "        # Create a tensor to store the output\n",
        "        output = torch.zeros((bs, 4, 14, 14)).to(x.device)\n",
        "\n",
        "        # Loop over the coordinates of the top-left pixel of 2X2 squares\n",
        "        for b in range(bs):\n",
        "          for j in range(0, h, 2):\n",
        "              for k in range(0, w, 2):\n",
        "                  q_results = self.circuit(\n",
        "                      torch.tensor([\n",
        "                          x[b,0,j, k].item(),\n",
        "                          x[b,0,j, k + 1].item(),\n",
        "                          x[b,0,j + 1, k].item(),\n",
        "                          x[b,0,j + 1, k + 1].item()\n",
        "                      ]).to(x.device)\n",
        "                  )\n",
        "\n",
        "                  # Assign expectation values to different channels of the output pixel (j/2, k/2)\n",
        "                  for c in range(4):\n",
        "                     output[b,c,j // 2, k // 2] = q_results[c]\n",
        "        return output"
      ]
    },
    {
      "cell_type": "code",
      "execution_count": 9,
      "metadata": {},
      "outputs": [
        {
          "data": {
            "text/plain": [
              "device(type='cuda')"
            ]
          },
          "execution_count": 9,
          "metadata": {},
          "output_type": "execute_result"
        }
      ],
      "source": [
        "device"
      ]
    },
    {
      "cell_type": "code",
      "execution_count": 10,
      "metadata": {
        "id": "_pGqdAy1nq86"
      },
      "outputs": [],
      "source": [
        "n_qubits = 4\n",
        "dev = qml.device(\"lightning.qubit\", wires=n_qubits)\n",
        "@qml.qnode(dev)\n",
        "def qnode(inputs, weights):\n",
        "    qml.IQPEmbedding(inputs, wires=range(n_qubits))\n",
        "    qml.BasicEntanglerLayers(weights, wires=range(n_qubits))\n",
        "    return [qml.expval(qml.PauliZ(wires=i)) for i in range(n_qubits)]\n",
        "\n",
        "n_layers = 4\n",
        "weight_shapes = {\"weights\": [n_layers, n_qubits]}\n",
        "#weight_shapes = {\"weights\":qml.StronglyEntanglingLayers.shape(n_layers=2, n_wires=n_qubits)}\n",
        "qlayer = qml.qnn.TorchLayer(qnode, weight_shapes)"
      ]
    },
    {
      "cell_type": "code",
      "execution_count": 11,
      "metadata": {
        "id": "DJSSYubk5vky"
      },
      "outputs": [],
      "source": [
        "def train_model(model, criterion, optimizer, scheduler, num_epochs, batch_size):\n",
        "    since = time.time()\n",
        "    # Best model\n",
        "    best_model_wts = copy.deepcopy(model.state_dict())\n",
        "    best_acc = 0.0\n",
        "    best_loss = 10000.0\n",
        "    best_acc_train = 0.0\n",
        "    best_loss_train = 10000.0\n",
        "    print(\"Training started:\")\n",
        "\n",
        "    for epoch in range(num_epochs):\n",
        "        # Cross validation\n",
        "        for phase in [\"train\", \"validation\"]:\n",
        "            # Set model mode\n",
        "            if phase == \"train\":\n",
        "                model.train()\n",
        "            else:\n",
        "                model.eval()\n",
        "            running_loss = 0.0\n",
        "            running_corrects = 0\n",
        "            n_batches = len(dataloaders[phase].dataset) // batch_size\n",
        "            # Batch iteration counter\n",
        "            it = 0\n",
        "            for i, (inputs, labels) in enumerate(dataloaders[phase]):\n",
        "                since_batch = time.time()\n",
        "                inputs = inputs.to(device)\n",
        "                labels = labels.to(device)\n",
        "                optimizer.zero_grad()\n",
        "                with torch.set_grad_enabled(phase == \"train\"):\n",
        "                    # Get outputs\n",
        "                    outputs = model(inputs)\n",
        "                    # Get predictions\n",
        "                    _, preds = torch.max(outputs, 1)\n",
        "                    # Compute loss using criterion\n",
        "                    loss = criterion(outputs, labels)\n",
        "                    if phase == \"train\":\n",
        "                        loss.backward()\n",
        "                        optimizer.step()\n",
        "                # Calculating the loss\n",
        "                running_loss += loss.item() * batch_size\n",
        "                # Calculating the accuracy\n",
        "                batch_corrects = torch.sum(preds == labels.data).item()\n",
        "                running_corrects += batch_corrects\n",
        "                # Print iteration counter\n",
        "                print(\"Phase: {} Epoch: {}/{} Iter: {}/{} Batch time: {:.4f}\".format(\n",
        "                        phase,\n",
        "                        epoch + 1,\n",
        "                        num_epochs,\n",
        "                        it + 1,\n",
        "                        n_batches + 1,\n",
        "                        time.time() - since_batch,\n",
        "                    ),\n",
        "                    end=\"\\r\",\n",
        "                    flush=True,\n",
        "                )\n",
        "                it += 1\n",
        "\n",
        "            # Print epoch results\n",
        "            epoch_loss = running_loss / len(dataloaders[phase].dataset)\n",
        "            epoch_acc = running_corrects / len(dataloaders[phase].dataset)\n",
        "            print(\n",
        "                \"Phase: {} Epoch: {}/{} Loss: {:.4f} Acc: {:.4f}        \".format(\n",
        "                    phase,\n",
        "                    epoch + 1,\n",
        "                    num_epochs,\n",
        "                    epoch_loss,\n",
        "                    epoch_acc,\n",
        "                )\n",
        "            )\n",
        "\n",
        "            # Check if this is the best model wrt previous epochs\n",
        "            if phase == \"validation\" and epoch_acc > best_acc:\n",
        "                best_acc = epoch_acc\n",
        "                best_model_wts = copy.deepcopy(model.state_dict())\n",
        "            if phase == \"validation\" and epoch_loss < best_loss:\n",
        "                best_loss = epoch_loss\n",
        "            if phase == \"train\" and epoch_acc > best_acc_train:\n",
        "                best_acc_train = epoch_acc\n",
        "            if phase == \"train\" and epoch_loss < best_loss_train:\n",
        "                best_loss_train = epoch_loss\n",
        "\n",
        "            # Update learning rate\n",
        "            if phase == \"validation\":\n",
        "                scheduler.step(epoch_loss)\n",
        "\n",
        "    # Print final results\n",
        "    model.load_state_dict(best_model_wts)\n",
        "    time_elapsed = time.time() - since\n",
        "    print(\"Training completed in {:.0f}m {:.0f}s\".format(\n",
        "        time_elapsed // 60, time_elapsed % 60\n",
        "        ))\n",
        "    print(\"Best test loss: {:.4f} | Best test accuracy: {:.4f}\".format(best_loss, best_acc))\n",
        "    return model"
      ]
    },
    {
      "cell_type": "code",
      "execution_count": 12,
      "metadata": {
        "colab": {
          "base_uri": "https://localhost:8080/"
        },
        "id": "k4VZg9Iy83bP",
        "outputId": "cd05179b-4f30-4a18-cde5-82f6d6902333"
      },
      "outputs": [
        {
          "name": "stdout",
          "output_type": "stream",
          "text": [
            "Training started:\n",
            "Phase: train Epoch: 1/20 Loss: 1.2098 Acc: 0.5893        \n",
            "Phase: validation Epoch: 1/20 Loss: 1.1213 Acc: 0.6875        \n",
            "Phase: train Epoch: 2/20 Loss: 0.8455 Acc: 0.7821        \n",
            "Phase: validation Epoch: 2/20 Loss: 0.8084 Acc: 0.8688        \n",
            "Phase: train Epoch: 3/20 Loss: 0.5790 Acc: 0.8768        \n",
            "Phase: validation Epoch: 3/20 Loss: 0.5734 Acc: 0.9062        \n",
            "Phase: train Epoch: 4/20 Loss: 0.3775 Acc: 0.9143        \n",
            "Phase: validation Epoch: 4/20 Loss: 0.4175 Acc: 0.9000        \n",
            "Phase: train Epoch: 5/20 Loss: 0.2568 Acc: 0.9357        \n",
            "Phase: validation Epoch: 5/20 Loss: 0.3033 Acc: 0.9125        \n",
            "Phase: train Epoch: 6/20 Loss: 0.1907 Acc: 0.9446        \n",
            "Phase: validation Epoch: 6/20 Loss: 0.2709 Acc: 0.9375        \n",
            "Phase: train Epoch: 7/20 Loss: 0.1569 Acc: 0.9554        \n",
            "Phase: validation Epoch: 7/20 Loss: 0.2244 Acc: 0.9375        \n",
            "Phase: train Epoch: 8/20 Loss: 0.1299 Acc: 0.9625        \n",
            "Phase: validation Epoch: 8/20 Loss: 0.2000 Acc: 0.9437        \n",
            "Phase: train Epoch: 9/20 Loss: 0.1153 Acc: 0.9643        \n",
            "Phase: validation Epoch: 9/20 Loss: 0.1776 Acc: 0.9437        \n",
            "Phase: train Epoch: 10/20 Loss: 0.0950 Acc: 0.9696        \n",
            "Phase: validation Epoch: 10/20 Loss: 0.1657 Acc: 0.9625        \n",
            "Phase: train Epoch: 11/20 Loss: 0.0825 Acc: 0.9786        \n",
            "Phase: validation Epoch: 11/20 Loss: 0.1539 Acc: 0.9500        \n",
            "Phase: train Epoch: 12/20 Loss: 0.0714 Acc: 0.9875        \n",
            "Phase: validation Epoch: 12/20 Loss: 0.1485 Acc: 0.9625        \n",
            "Phase: train Epoch: 13/20 Loss: 0.0624 Acc: 0.9893        \n",
            "Phase: validation Epoch: 13/20 Loss: 0.1315 Acc: 0.9625        \n",
            "Phase: train Epoch: 14/20 Loss: 0.0509 Acc: 0.9929        \n",
            "Phase: validation Epoch: 14/20 Loss: 0.1346 Acc: 0.9625        \n",
            "Phase: train Epoch: 15/20 Loss: 0.0454 Acc: 0.9929        \n",
            "Phase: validation Epoch: 15/20 Loss: 0.1243 Acc: 0.9563        \n",
            "Phase: train Epoch: 16/20 Loss: 0.0398 Acc: 0.9982        \n",
            "Phase: validation Epoch: 16/20 Loss: 0.1228 Acc: 0.9688        \n",
            "Phase: train Epoch: 17/20 Loss: 0.0365 Acc: 0.9946        \n",
            "Phase: validation Epoch: 17/20 Loss: 0.1171 Acc: 0.9500        \n",
            "Phase: train Epoch: 18/20 Loss: 0.0294 Acc: 1.0000        \n",
            "Phase: validation Epoch: 18/20 Loss: 0.1225 Acc: 0.9625        \n",
            "Phase: train Epoch: 19/20 Loss: 0.0259 Acc: 1.0000        \n",
            "Phase: validation Epoch: 19/20 Loss: 0.1153 Acc: 0.9437        \n",
            "Phase: train Epoch: 20/20 Loss: 0.0232 Acc: 1.0000        \n",
            "Phase: validation Epoch: 20/20 Loss: 0.1163 Acc: 0.9625        \n",
            "Training completed in 931m 27s\n",
            "Best test loss: 0.1153 | Best test accuracy: 0.9688\n"
          ]
        }
      ],
      "source": [
        "# Sequential model\n",
        "model = torch.nn.Sequential(\n",
        "        Quanv(n_layers=3),\n",
        "        torch.nn.Flatten(),\n",
        "        torch.nn.Linear(in_features=14*14*4,out_features=4),\n",
        "        torch.nn.Linear(in_features=4,out_features=4)\n",
        "    ).to(device)\n",
        "\n",
        "# Optimizer, Scheduler and loss criterion\n",
        "optimizer = torch.optim.Adam(params=model.parameters(), lr=5e-3, weight_decay=1e-5)\n",
        "scheduler = ReduceLROnPlateau(optimizer, mode='min',factor=0.1, patience=5,min_lr=0.00002)\n",
        "criterion = torch.nn.CrossEntropyLoss()\n",
        "model= train_model(model, criterion, optimizer, scheduler, num_epochs=20, batch_size = batch_size)\n",
        "# Save the model\n",
        "torch.save(model.state_dict(), 'model_multi_200_20_IQP.pth')"
      ]
    },
    {
      "cell_type": "code",
      "execution_count": 13,
      "metadata": {
        "colab": {
          "base_uri": "https://localhost:8080/"
        },
        "id": "BWFKBC__9vzO",
        "outputId": "5a91d9ae-0ac0-4a8f-dc51-15035acadd10"
      },
      "outputs": [
        {
          "data": {
            "text/plain": [
              "<All keys matched successfully>"
            ]
          },
          "execution_count": 13,
          "metadata": {},
          "output_type": "execute_result"
        }
      ],
      "source": [
        "# Load the saved model\n",
        "model.load_state_dict(torch.load('model_multi_200_20_IQP.pth'))"
      ]
    },
    {
      "cell_type": "code",
      "execution_count": 14,
      "metadata": {
        "id": "4AXyHOho89cs"
      },
      "outputs": [],
      "source": [
        "def scores(y_true, y_pred, y_probs):\n",
        "    f1 = f1_score(y_true, y_pred, average='weighted')\n",
        "    precision = precision_score(y_true, y_pred, average='weighted')\n",
        "    recall = recall_score(y_true, y_pred, average='weighted')\n",
        "    c_mat = confusion_matrix(y_true, y_pred)\n",
        "    roc = roc_auc_score(y_true, y_probs, multi_class='ovo', average='weighted')\n",
        "    print(\"f1 score:{:.2f}, roc:{:.2f}, precision:{:.2f}, recall:{:.2f}, confusion matrix:{}\".format(\n",
        "    f1, roc, precision, recall, c_mat))\n",
        "    return [f1,roc,precision, recall, c_mat]\n",
        "\n",
        "def predictions(loader):\n",
        "    y_true = []\n",
        "    y_pred = []\n",
        "    y_probs = []\n",
        "    model.eval()\n",
        "    with torch.no_grad():\n",
        "        for images, labels in loader:\n",
        "            images = images.to(device)\n",
        "            labels = labels.to(device)\n",
        "            outputs = model(images)\n",
        "            probs = torch.nn.functional.softmax(outputs, dim=1)\n",
        "            _, predicted = torch.max(outputs, 1)\n",
        "            y_true.extend(labels.cpu().numpy())\n",
        "            y_pred.extend(predicted.cpu().numpy())\n",
        "            y_probs.extend(probs.cpu().numpy())\n",
        "\n",
        "\n",
        "    y_true = np.array(y_true)\n",
        "    y_pred = np.array(y_pred)\n",
        "    y_probs = np.array(y_probs)\n",
        "\n",
        "    model.train()\n",
        "    return y_true,y_pred, y_probs"
      ]
    },
    {
      "cell_type": "code",
      "execution_count": 15,
      "metadata": {
        "colab": {
          "base_uri": "https://localhost:8080/"
        },
        "id": "vZi4dpeL9p5x",
        "outputId": "e1f46ee0-e8fb-4c5c-cfb2-39b8941a706d"
      },
      "outputs": [
        {
          "name": "stdout",
          "output_type": "stream",
          "text": [
            "f1 score:0.94, roc:0.99, precision:0.94, recall:0.94, confusion matrix:[[19  0  1  0]\n",
            " [ 0 18  0  0]\n",
            " [ 4  0 15  0]\n",
            " [ 0  0  0 23]]\n"
          ]
        }
      ],
      "source": [
        "y_true, y_pred, y_probs = predictions(test_loader)\n",
        "f1,roc,precision, recall, c_mat = scores(y_true, y_pred, y_probs)"
      ]
    },
    {
      "cell_type": "code",
      "execution_count": 16,
      "metadata": {
        "colab": {
          "base_uri": "https://localhost:8080/"
        },
        "id": "Uo0CnRz8-FpQ",
        "outputId": "535d218a-7c7d-461f-833e-5f129b24b187"
      },
      "outputs": [
        {
          "name": "stdout",
          "output_type": "stream",
          "text": [
            "Accuracy: 93.75\n"
          ]
        }
      ],
      "source": [
        "accuracy = (np.array(y_pred) == np.array(y_true)).mean()\n",
        "print(\"Accuracy:\", 100*accuracy)"
      ]
    },
    {
      "cell_type": "code",
      "execution_count": 17,
      "metadata": {
        "colab": {
          "base_uri": "https://localhost:8080/",
          "height": 581
        },
        "id": "0p4g73xfCnIH",
        "outputId": "1f8bca53-e17d-41f7-8ce2-bba6ced81128"
      },
      "outputs": [
        {
          "data": {
            "image/png": "[encoded data removed]",
            "text/plain": [
              "<Figure size 1000x800 with 2 Axes>"
            ]
          },
          "metadata": {},
          "output_type": "display_data"
        }
      ],
      "source": [
        "plt.figure(figsize=(10, 8))\n",
        "sns.heatmap(c_mat, annot=True, fmt='d', cmap='Blues', xticklabels=range(4), yticklabels=range(4))\n",
        "plt.xlabel('Predicted')\n",
        "plt.ylabel('True')\n",
        "plt.title('Confusion Matrix')\n",
        "plt.show()\n"
      ]
    },
    {
      "cell_type": "code",
      "execution_count": null,
      "metadata": {
        "id": "d3qcWwywZyld"
      },
      "outputs": [],
      "source": []
    }
  ],
  "metadata": {
    "accelerator": "GPU",
    "colab": {
      "gpuType": "T4",
      "provenance": []
    },
    "kernelspec": {
      "display_name": "Python 3",
      "name": "python3"
    },
    "language_info": {
      "codemirror_mode": {
        "name": "ipython",
        "version": 3
      },
      "file_extension": ".py",
      "mimetype": "text/x-python",
      "name": "python",
      "nbconvert_exporter": "python",
      "pygments_lexer": "ipython3",
      "version": "3.11.7"
    }
  },
  "nbformat": 4,
  "nbformat_minor": 0
}
