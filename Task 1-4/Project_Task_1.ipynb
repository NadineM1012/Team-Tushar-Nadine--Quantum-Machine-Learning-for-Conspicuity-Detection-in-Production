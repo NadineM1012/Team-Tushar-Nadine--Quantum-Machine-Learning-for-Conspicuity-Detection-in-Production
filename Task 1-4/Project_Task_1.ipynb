{
  "nbformat": 4,
  "nbformat_minor": 0,
  "metadata": {
    "colab": {
      "provenance": []
    },
    "kernelspec": {
      "name": "python3",
      "display_name": "Python 3"
    },
    "language_info": {
      "name": "python"
    }
  },
  "cells": [
    {
      "cell_type": "markdown",
      "source": [
        "# **Variational Quantum Classifier**\n",
        "\n"
      ],
      "metadata": {
        "id": "IYMvUj8Zyjbf"
      }
    },
    {
      "cell_type": "code",
      "source": [
        "!pip install pennylane"
      ],
      "metadata": {
        "colab": {
          "base_uri": "https://localhost:8080/"
        },
        "id": "WEXeCb_Dylr-",
        "outputId": "21e81848-b014-4aed-90f5-25e9622b5998"
      },
      "execution_count": null,
      "outputs": [
        {
          "output_type": "stream",
          "name": "stdout",
          "text": [
            "Collecting pennylane\n",
            "  Downloading PennyLane-0.37.0-py3-none-any.whl (1.8 MB)\n",
            "\u001b[2K     \u001b[90m━━━━━━━━━━━━━━━━━━━━━━━━━━━━━━━━━━━━━━━━\u001b[0m \u001b[32m1.8/1.8 MB\u001b[0m \u001b[31m6.6 MB/s\u001b[0m eta \u001b[36m0:00:00\u001b[0m\n",
            "\u001b[?25hRequirement already satisfied: numpy<2.0 in /usr/local/lib/python3.10/dist-packages (from pennylane) (1.25.2)\n",
            "Requirement already satisfied: scipy in /usr/local/lib/python3.10/dist-packages (from pennylane) (1.11.4)\n",
            "Requirement already satisfied: networkx in /usr/local/lib/python3.10/dist-packages (from pennylane) (3.3)\n",
            "Collecting rustworkx (from pennylane)\n",
            "  Downloading rustworkx-0.15.1-cp38-abi3-manylinux_2_17_x86_64.manylinux2014_x86_64.whl (2.0 MB)\n",
            "\u001b[2K     \u001b[90m━━━━━━━━━━━━━━━━━━━━━━━━━━━━━━━━━━━━━━━━\u001b[0m \u001b[32m2.0/2.0 MB\u001b[0m \u001b[31m33.4 MB/s\u001b[0m eta \u001b[36m0:00:00\u001b[0m\n",
            "\u001b[?25hRequirement already satisfied: autograd in /usr/local/lib/python3.10/dist-packages (from pennylane) (1.6.2)\n",
            "Requirement already satisfied: toml in /usr/local/lib/python3.10/dist-packages (from pennylane) (0.10.2)\n",
            "Collecting appdirs (from pennylane)\n",
            "  Downloading appdirs-1.4.4-py2.py3-none-any.whl (9.6 kB)\n",
            "Collecting semantic-version>=2.7 (from pennylane)\n",
            "  Downloading semantic_version-2.10.0-py2.py3-none-any.whl (15 kB)\n",
            "Collecting autoray>=0.6.11 (from pennylane)\n",
            "  Downloading autoray-0.6.12-py3-none-any.whl (50 kB)\n",
            "\u001b[2K     \u001b[90m━━━━━━━━━━━━━━━━━━━━━━━━━━━━━━━━━━━━━━━━\u001b[0m \u001b[32m51.0/51.0 kB\u001b[0m \u001b[31m7.0 MB/s\u001b[0m eta \u001b[36m0:00:00\u001b[0m\n",
            "\u001b[?25hRequirement already satisfied: cachetools in /usr/local/lib/python3.10/dist-packages (from pennylane) (5.3.3)\n",
            "Collecting pennylane-lightning>=0.37 (from pennylane)\n",
            "  Downloading PennyLane_Lightning-0.37.0-cp310-cp310-manylinux_2_28_x86_64.whl (15.5 MB)\n",
            "\u001b[2K     \u001b[90m━━━━━━━━━━━━━━━━━━━━━━━━━━━━━━━━━━━━━━━━\u001b[0m \u001b[32m15.5/15.5 MB\u001b[0m \u001b[31m37.8 MB/s\u001b[0m eta \u001b[36m0:00:00\u001b[0m\n",
            "\u001b[?25hRequirement already satisfied: requests in /usr/local/lib/python3.10/dist-packages (from pennylane) (2.31.0)\n",
            "Requirement already satisfied: typing-extensions in /usr/local/lib/python3.10/dist-packages (from pennylane) (4.12.2)\n",
            "Requirement already satisfied: packaging in /usr/local/lib/python3.10/dist-packages (from pennylane) (24.1)\n",
            "Requirement already satisfied: future>=0.15.2 in /usr/local/lib/python3.10/dist-packages (from autograd->pennylane) (0.18.3)\n",
            "Requirement already satisfied: charset-normalizer<4,>=2 in /usr/local/lib/python3.10/dist-packages (from requests->pennylane) (3.3.2)\n",
            "Requirement already satisfied: idna<4,>=2.5 in /usr/local/lib/python3.10/dist-packages (from requests->pennylane) (3.7)\n",
            "Requirement already satisfied: urllib3<3,>=1.21.1 in /usr/local/lib/python3.10/dist-packages (from requests->pennylane) (2.0.7)\n",
            "Requirement already satisfied: certifi>=2017.4.17 in /usr/local/lib/python3.10/dist-packages (from requests->pennylane) (2024.6.2)\n",
            "Installing collected packages: appdirs, semantic-version, rustworkx, autoray, pennylane-lightning, pennylane\n",
            "Successfully installed appdirs-1.4.4 autoray-0.6.12 pennylane-0.37.0 pennylane-lightning-0.37.0 rustworkx-0.15.1 semantic-version-2.10.0\n"
          ]
        }
      ]
    },
    {
      "cell_type": "code",
      "execution_count": null,
      "metadata": {
        "id": "XKuGpJEaygAN"
      },
      "outputs": [],
      "source": [
        "import pennylane as qml\n",
        "from pennylane import numpy as np\n",
        "from pennylane.optimize import NesterovMomentumOptimizer"
      ]
    },
    {
      "cell_type": "markdown",
      "source": [
        "**Emulation of the parity function**\n",
        "\n",
        "\\\n",
        "$f : x \\in \\{0, 1\\}^{\\otimes n} \\rightarrow y =\n",
        "\\begin{cases}\n",
        "    1 & \\text{if there is an uneven number of 1's in } x \\\\\n",
        "    0 & \\text{else}\n",
        "\\end{cases}$\n",
        "\n",
        "Variational quantum circuits are optimized to emulate the parity function. Here, binary inputs are encoded into the initial states of the variational quantum circuit."
      ],
      "metadata": {
        "id": "pS2zJQqi1Abs"
      }
    },
    {
      "cell_type": "code",
      "source": [
        "#create quantum device to run the circuit on\n",
        "dev = qml.device(\"default.qubit\")"
      ],
      "metadata": {
        "id": "DycOiviI7o7V"
      },
      "execution_count": null,
      "outputs": []
    },
    {
      "cell_type": "code",
      "source": [
        "#deifne a layer to serve as an elementary circuit architecture\n",
        "def layer(layer_weights):\n",
        "    for wire in range(4):\n",
        "        #arbitrary rotation on every qubit\n",
        "        qml.Rot(*layer_weights[wire], wires=wire)\n",
        "    #entangle each qubit with its neighbour\n",
        "    for wires in ([0, 1], [1, 2], [2, 3], [3, 0]):\n",
        "        qml.CNOT(wires)"
      ],
      "metadata": {
        "id": "SWWREZTt7vR-"
      },
      "execution_count": null,
      "outputs": []
    },
    {
      "cell_type": "code",
      "source": [
        "# encode input bitstring x into the circuit using the function BasisState\n",
        "# e.g. x = 0101 →|ψ⟩=|0101⟩\n",
        "def state_preparation(x):\n",
        "    qml.BasisState(x, wires=[0, 1, 2, 3])"
      ],
      "metadata": {
        "id": "PY3-fsuV8n3x"
      },
      "execution_count": null,
      "outputs": []
    },
    {
      "cell_type": "code",
      "source": [
        "#define a variational quantum circuit\n",
        "@qml.qnode(dev)\n",
        "def circuit(weights, x):\n",
        "\n",
        "    #encode the input\n",
        "    state_preparation(x)\n",
        "    # n layers\n",
        "    for layer_weights in weights:\n",
        "        layer(layer_weights)\n",
        "    #return expectation value of the observable\n",
        "    return qml.expval(qml.PauliZ(0))"
      ],
      "metadata": {
        "id": "L0rmEG_s9I0X"
      },
      "execution_count": null,
      "outputs": []
    },
    {
      "cell_type": "code",
      "source": [
        "# add trainable bias to  the sum of the output of the quantum circuit\n",
        "def variational_classifier(weights, bias, x):\n",
        "    return circuit(weights, x) + bias"
      ],
      "metadata": {
        "id": "aV6N5z_a_4TR"
      },
      "execution_count": null,
      "outputs": []
    },
    {
      "cell_type": "code",
      "source": [
        "# define standard square loss to measure the distance between target labels and model predictions\n",
        "def square_loss(labels, predictions):\n",
        "    #   use qml.math.stack to allow subtracting the arrays directly\n",
        "    return np.mean((labels - qml.math.stack(predictions)) ** 2)\n"
      ],
      "metadata": {
        "id": "gCtoPKX5DH9F"
      },
      "execution_count": null,
      "outputs": []
    },
    {
      "cell_type": "code",
      "source": [
        "#define performance function\n",
        "def accuracy(labels, predictions):\n",
        "    acc = sum(abs(l - p) < 1e-5 for l, p in zip(labels, predictions))\n",
        "    acc = acc / len(labels)\n",
        "    return acc"
      ],
      "metadata": {
        "id": "sijHFlXTDskg"
      },
      "execution_count": null,
      "outputs": []
    },
    {
      "cell_type": "code",
      "source": [
        "#define a cost function to compute the loss\n",
        "def cost(weights, bias, X, Y):\n",
        "    predictions = [variational_classifier(weights, bias, x) for x in X]\n",
        "    return square_loss(Y, predictions)"
      ],
      "metadata": {
        "id": "1_gqeYlRD5mh"
      },
      "execution_count": null,
      "outputs": []
    },
    {
      "cell_type": "code",
      "source": [
        "#create dirs\n",
        "import os\n",
        "os.makedirs('variational_classifier/data/', exist_ok=True)"
      ],
      "metadata": {
        "id": "p8B_7a3qHE4O"
      },
      "execution_count": null,
      "outputs": []
    },
    {
      "cell_type": "code",
      "source": [
        "# download dataset and save it\n",
        "import urllib.request\n",
        "urls = ['https://raw.githubusercontent.com/XanaduAI/qml/master/_static/demonstration_assets/variational_classifier/data/parity_train.txt','https://raw.githubusercontent.com/XanaduAI/qml/master/_static/demonstration_assets/variational_classifier/data/parity_test.txt']\n",
        "file_paths = ['variational_classifier/data/parity_train.txt','variational_classifier/data/parity_test.txt']\n",
        "for url, file_path in zip(urls, file_paths):\n",
        "  response = urllib.request.urlopen(url)\n",
        "  data = response.read().decode('utf-8')\n",
        "\n",
        "\n",
        "  # Write the data to a text file\n",
        "  with open(file_path, 'w') as file:\n",
        "      file.write(data)\n",
        "\n",
        "  print(f'Data saved to {file_path}')"
      ],
      "metadata": {
        "colab": {
          "base_uri": "https://localhost:8080/"
        },
        "id": "HXY4Ut2cEnkA",
        "outputId": "10333e74-22ad-4eed-96f8-3ab561bca4a9"
      },
      "execution_count": null,
      "outputs": [
        {
          "output_type": "stream",
          "name": "stdout",
          "text": [
            "Data saved to variational_classifier/data/parity_train.txt\n",
            "Data saved to variational_classifier/data/parity_test.txt\n"
          ]
        }
      ]
    },
    {
      "cell_type": "code",
      "source": [
        "#load the data\n",
        "data = np.loadtxt(\"variational_classifier/data/parity_train.txt\", dtype=int)\n",
        "X = np.array(data[:, :-1])\n",
        "Y = np.array(data[:, -1])\n",
        "Y = Y * 2 - 1  # shift label from {0, 1} to {-1, 1}\n",
        "\n",
        "for x,y in zip(X, Y):\n",
        "    print(f\"x = {x}, y = {y}\")"
      ],
      "metadata": {
        "colab": {
          "base_uri": "https://localhost:8080/"
        },
        "id": "DdWgpbdZEyb7",
        "outputId": "8b3d6568-d58c-487f-bd8c-c1ae26e7ec80"
      },
      "execution_count": null,
      "outputs": [
        {
          "output_type": "stream",
          "name": "stdout",
          "text": [
            "x = [0 0 0 1], y = 1\n",
            "x = [0 0 1 0], y = 1\n",
            "x = [0 1 0 0], y = 1\n",
            "x = [0 1 0 1], y = -1\n",
            "x = [0 1 1 0], y = -1\n",
            "x = [0 1 1 1], y = 1\n",
            "x = [1 0 0 0], y = 1\n",
            "x = [1 0 0 1], y = -1\n",
            "x = [1 0 1 1], y = 1\n",
            "x = [1 1 1 1], y = -1\n"
          ]
        }
      ]
    },
    {
      "cell_type": "code",
      "source": [
        "#initialize variables\n",
        "np.random.seed(0)\n",
        "#number of qubits\n",
        "num_qubits = 4\n",
        "#number of layers\n",
        "num_layers = 2\n",
        "#initialize weights\n",
        "weights_init = 0.01 * np.random.randn(num_layers, num_qubits, 3, requires_grad=True)\n",
        "#initialize bias\n",
        "bias_init = np.array(0.0, requires_grad=True)\n",
        "\n",
        "print(\"Weights:\", weights_init)\n",
        "print(\"Bias: \", bias_init)"
      ],
      "metadata": {
        "colab": {
          "base_uri": "https://localhost:8080/"
        },
        "id": "4nd4pVx1LeU0",
        "outputId": "cb1e15fe-46b8-4145-edc3-cb4f1841092d"
      },
      "execution_count": null,
      "outputs": [
        {
          "output_type": "stream",
          "name": "stdout",
          "text": [
            "Weights: [[[ 0.01764052  0.00400157  0.00978738]\n",
            "  [ 0.02240893  0.01867558 -0.00977278]\n",
            "  [ 0.00950088 -0.00151357 -0.00103219]\n",
            "  [ 0.00410599  0.00144044  0.01454274]]\n",
            "\n",
            " [[ 0.00761038  0.00121675  0.00443863]\n",
            "  [ 0.00333674  0.01494079 -0.00205158]\n",
            "  [ 0.00313068 -0.00854096 -0.0255299 ]\n",
            "  [ 0.00653619  0.00864436 -0.00742165]]]\n",
            "Bias:  0.0\n"
          ]
        }
      ]
    },
    {
      "cell_type": "code",
      "source": [
        "#define an optimizer\n",
        "# deinfe batch size\n",
        "opt = NesterovMomentumOptimizer(0.5)\n",
        "batch_size = 5"
      ],
      "metadata": {
        "id": "dS6Z9vE0M-7l"
      },
      "execution_count": null,
      "outputs": []
    },
    {
      "cell_type": "code",
      "source": [
        "weights = weights_init\n",
        "bias = bias_init\n",
        "\n",
        "# Loop over epochs\n",
        "for it in range(100):\n",
        "\n",
        "    # Update the weights by one optimizer step, using only a limited batch of data\n",
        "    batch_index = np.random.randint(0, len(X), (batch_size,))\n",
        "    X_batch = X[batch_index]\n",
        "    Y_batch = Y[batch_index]\n",
        "    weights, bias = opt.step(cost, weights, bias, X=X_batch, Y=Y_batch)\n",
        "\n",
        "    # Compute accuracy\n",
        "    #use np.sign to turn the outputs into predictions in  {−1,1}\n",
        "    predictions = [np.sign(variational_classifier(weights, bias, x)) for x in X]\n",
        "\n",
        "    current_cost = cost(weights, bias, X, Y)\n",
        "    acc = accuracy(Y, predictions)\n",
        "\n",
        "    print(f\"Iter: {it+1:4d} | Cost: {current_cost:0.7f} | Accuracy: {acc:0.7f}\")"
      ],
      "metadata": {
        "colab": {
          "base_uri": "https://localhost:8080/"
        },
        "id": "Kqant2WWNXxP",
        "outputId": "99ce32cf-e7b2-4493-eddb-c167d540b41f"
      },
      "execution_count": null,
      "outputs": [
        {
          "output_type": "stream",
          "name": "stdout",
          "text": [
            "Iter:    1 | Cost: 2.3147651 | Accuracy: 0.5000000\n",
            "Iter:    2 | Cost: 1.9664866 | Accuracy: 0.5000000\n",
            "Iter:    3 | Cost: 1.9208589 | Accuracy: 0.5000000\n",
            "Iter:    4 | Cost: 2.6276126 | Accuracy: 0.5000000\n",
            "Iter:    5 | Cost: 0.9323119 | Accuracy: 0.6000000\n",
            "Iter:    6 | Cost: 1.1903549 | Accuracy: 0.5000000\n",
            "Iter:    7 | Cost: 2.0508989 | Accuracy: 0.4000000\n",
            "Iter:    8 | Cost: 1.1275531 | Accuracy: 0.6000000\n",
            "Iter:    9 | Cost: 1.1659803 | Accuracy: 0.6000000\n",
            "Iter:   10 | Cost: 1.1349618 | Accuracy: 0.6000000\n",
            "Iter:   11 | Cost: 0.9994063 | Accuracy: 0.6000000\n",
            "Iter:   12 | Cost: 1.0812559 | Accuracy: 0.6000000\n",
            "Iter:   13 | Cost: 1.2863155 | Accuracy: 0.6000000\n",
            "Iter:   14 | Cost: 2.2658259 | Accuracy: 0.4000000\n",
            "Iter:   15 | Cost: 1.1323724 | Accuracy: 0.6000000\n",
            "Iter:   16 | Cost: 1.3439737 | Accuracy: 0.8000000\n",
            "Iter:   17 | Cost: 2.0076168 | Accuracy: 0.6000000\n",
            "Iter:   18 | Cost: 1.2685760 | Accuracy: 0.5000000\n",
            "Iter:   19 | Cost: 1.6762475 | Accuracy: 0.5000000\n",
            "Iter:   20 | Cost: 1.1868237 | Accuracy: 0.6000000\n",
            "Iter:   21 | Cost: 1.4784687 | Accuracy: 0.6000000\n",
            "Iter:   22 | Cost: 1.4599473 | Accuracy: 0.6000000\n",
            "Iter:   23 | Cost: 0.9573269 | Accuracy: 0.6000000\n",
            "Iter:   24 | Cost: 1.1657424 | Accuracy: 0.5000000\n",
            "Iter:   25 | Cost: 1.0877087 | Accuracy: 0.4000000\n",
            "Iter:   26 | Cost: 1.1683687 | Accuracy: 0.6000000\n",
            "Iter:   27 | Cost: 2.1141689 | Accuracy: 0.6000000\n",
            "Iter:   28 | Cost: 1.0272966 | Accuracy: 0.5000000\n",
            "Iter:   29 | Cost: 0.9664085 | Accuracy: 0.5000000\n",
            "Iter:   30 | Cost: 1.1287654 | Accuracy: 0.6000000\n",
            "Iter:   31 | Cost: 1.4202360 | Accuracy: 0.4000000\n",
            "Iter:   32 | Cost: 1.1286000 | Accuracy: 0.5000000\n",
            "Iter:   33 | Cost: 1.9594333 | Accuracy: 0.4000000\n",
            "Iter:   34 | Cost: 1.2811832 | Accuracy: 0.4000000\n",
            "Iter:   35 | Cost: 0.8522775 | Accuracy: 0.7000000\n",
            "Iter:   36 | Cost: 1.4765281 | Accuracy: 0.6000000\n",
            "Iter:   37 | Cost: 0.9603287 | Accuracy: 0.6000000\n",
            "Iter:   38 | Cost: 1.6031314 | Accuracy: 0.6000000\n",
            "Iter:   39 | Cost: 1.1700888 | Accuracy: 0.4000000\n",
            "Iter:   40 | Cost: 1.7571779 | Accuracy: 0.4000000\n",
            "Iter:   41 | Cost: 1.9608116 | Accuracy: 0.6000000\n",
            "Iter:   42 | Cost: 2.0802752 | Accuracy: 0.6000000\n",
            "Iter:   43 | Cost: 1.1904884 | Accuracy: 0.3000000\n",
            "Iter:   44 | Cost: 0.9941585 | Accuracy: 0.6000000\n",
            "Iter:   45 | Cost: 1.0709609 | Accuracy: 0.5000000\n",
            "Iter:   46 | Cost: 0.9780625 | Accuracy: 0.6000000\n",
            "Iter:   47 | Cost: 1.1573709 | Accuracy: 0.6000000\n",
            "Iter:   48 | Cost: 1.0235239 | Accuracy: 0.6000000\n",
            "Iter:   49 | Cost: 1.2842469 | Accuracy: 0.5000000\n",
            "Iter:   50 | Cost: 0.8549226 | Accuracy: 0.6000000\n",
            "Iter:   51 | Cost: 0.5136787 | Accuracy: 1.0000000\n",
            "Iter:   52 | Cost: 0.2488031 | Accuracy: 1.0000000\n",
            "Iter:   53 | Cost: 0.0461277 | Accuracy: 1.0000000\n",
            "Iter:   54 | Cost: 0.0293518 | Accuracy: 1.0000000\n",
            "Iter:   55 | Cost: 0.0205454 | Accuracy: 1.0000000\n",
            "Iter:   56 | Cost: 0.0352514 | Accuracy: 1.0000000\n",
            "Iter:   57 | Cost: 0.0576767 | Accuracy: 1.0000000\n",
            "Iter:   58 | Cost: 0.0291305 | Accuracy: 1.0000000\n",
            "Iter:   59 | Cost: 0.0127137 | Accuracy: 1.0000000\n",
            "Iter:   60 | Cost: 0.0058108 | Accuracy: 1.0000000\n",
            "Iter:   61 | Cost: 0.0018002 | Accuracy: 1.0000000\n",
            "Iter:   62 | Cost: 0.0014089 | Accuracy: 1.0000000\n",
            "Iter:   63 | Cost: 0.0017489 | Accuracy: 1.0000000\n",
            "Iter:   64 | Cost: 0.0021282 | Accuracy: 1.0000000\n",
            "Iter:   65 | Cost: 0.0029876 | Accuracy: 1.0000000\n",
            "Iter:   66 | Cost: 0.0035331 | Accuracy: 1.0000000\n",
            "Iter:   67 | Cost: 0.0035540 | Accuracy: 1.0000000\n",
            "Iter:   68 | Cost: 0.0025639 | Accuracy: 1.0000000\n",
            "Iter:   69 | Cost: 0.0019459 | Accuracy: 1.0000000\n",
            "Iter:   70 | Cost: 0.0015856 | Accuracy: 1.0000000\n",
            "Iter:   71 | Cost: 0.0008439 | Accuracy: 1.0000000\n",
            "Iter:   72 | Cost: 0.0005960 | Accuracy: 1.0000000\n",
            "Iter:   73 | Cost: 0.0003122 | Accuracy: 1.0000000\n",
            "Iter:   74 | Cost: 0.0002446 | Accuracy: 1.0000000\n",
            "Iter:   75 | Cost: 0.0001745 | Accuracy: 1.0000000\n",
            "Iter:   76 | Cost: 0.0001215 | Accuracy: 1.0000000\n",
            "Iter:   77 | Cost: 0.0001141 | Accuracy: 1.0000000\n",
            "Iter:   78 | Cost: 0.0001538 | Accuracy: 1.0000000\n",
            "Iter:   79 | Cost: 0.0001871 | Accuracy: 1.0000000\n",
            "Iter:   80 | Cost: 0.0001330 | Accuracy: 1.0000000\n",
            "Iter:   81 | Cost: 0.0001380 | Accuracy: 1.0000000\n",
            "Iter:   82 | Cost: 0.0001336 | Accuracy: 1.0000000\n",
            "Iter:   83 | Cost: 0.0001483 | Accuracy: 1.0000000\n",
            "Iter:   84 | Cost: 0.0001234 | Accuracy: 1.0000000\n",
            "Iter:   85 | Cost: 0.0001359 | Accuracy: 1.0000000\n",
            "Iter:   86 | Cost: 0.0001268 | Accuracy: 1.0000000\n",
            "Iter:   87 | Cost: 0.0002270 | Accuracy: 1.0000000\n",
            "Iter:   88 | Cost: 0.0000865 | Accuracy: 1.0000000\n",
            "Iter:   89 | Cost: 0.0000774 | Accuracy: 1.0000000\n",
            "Iter:   90 | Cost: 0.0000759 | Accuracy: 1.0000000\n",
            "Iter:   91 | Cost: 0.0000607 | Accuracy: 1.0000000\n",
            "Iter:   92 | Cost: 0.0000523 | Accuracy: 1.0000000\n",
            "Iter:   93 | Cost: 0.0000536 | Accuracy: 1.0000000\n",
            "Iter:   94 | Cost: 0.0000444 | Accuracy: 1.0000000\n",
            "Iter:   95 | Cost: 0.0000384 | Accuracy: 1.0000000\n",
            "Iter:   96 | Cost: 0.0000497 | Accuracy: 1.0000000\n",
            "Iter:   97 | Cost: 0.0000263 | Accuracy: 1.0000000\n",
            "Iter:   98 | Cost: 0.0000229 | Accuracy: 1.0000000\n",
            "Iter:   99 | Cost: 0.0000339 | Accuracy: 1.0000000\n",
            "Iter:  100 | Cost: 0.0000174 | Accuracy: 1.0000000\n"
          ]
        }
      ]
    },
    {
      "cell_type": "code",
      "source": [
        "#test modeel on unseen data\n",
        "X_test = np.array(data[:, :-1])\n",
        "Y_test = np.array(data[:, -1])\n",
        "Y_test = Y_test * 2 - 1  # shift label from {0, 1} to {-1, 1}\n",
        "\n",
        "predictions_test = [np.sign(variational_classifier(weights, bias, x)) for x in X_test]\n",
        "\n",
        "for x,y,p in zip(X_test, Y_test, predictions_test):\n",
        "    print(f\"x = {x}, y = {y}, pred={p}\")\n",
        "\n",
        "acc_test = accuracy(Y_test, predictions_test)\n",
        "print(\"Accuracy on unseen data:\", acc_test)"
      ],
      "metadata": {
        "colab": {
          "base_uri": "https://localhost:8080/"
        },
        "id": "KOblcYNrO2OO",
        "outputId": "ec790c1c-bf23-488b-be04-c871e6d5deec"
      },
      "execution_count": null,
      "outputs": [
        {
          "output_type": "stream",
          "name": "stdout",
          "text": [
            "x = [0 0 0 1], y = 1, pred=1.0\n",
            "x = [0 0 1 0], y = 1, pred=1.0\n",
            "x = [0 1 0 0], y = 1, pred=1.0\n",
            "x = [0 1 0 1], y = -1, pred=-1.0\n",
            "x = [0 1 1 0], y = -1, pred=-1.0\n",
            "x = [0 1 1 1], y = 1, pred=1.0\n",
            "x = [1 0 0 0], y = 1, pred=1.0\n",
            "x = [1 0 0 1], y = -1, pred=-1.0\n",
            "x = [1 0 1 1], y = 1, pred=1.0\n",
            "x = [1 1 1 1], y = -1, pred=-1.0\n",
            "Accuracy on unseen data: 1.0\n"
          ]
        }
      ]
    },
    {
      "cell_type": "markdown",
      "source": [
        "**Iris classification**\n",
        "\n",
        "The variational quantum classifier is used to classify data points represented as 2-dimensional vectors from the Iris dataset. Here the data is encoded into 2-qubits by adding  latent dimensions."
      ],
      "metadata": {
        "id": "VlR_9Um8P8MJ"
      }
    },
    {
      "cell_type": "code",
      "source": [
        "# translate input x into a set of angles\n",
        "def get_angles(x):\n",
        "    beta0 = 2 * np.arcsin(np.sqrt(x[1] ** 2) / np.sqrt(x[0] ** 2 + x[1] ** 2 + 1e-12))\n",
        "    beta1 = 2 * np.arcsin(np.sqrt(x[3] ** 2) / np.sqrt(x[2] ** 2 + x[3] ** 2 + 1e-12))\n",
        "    beta2 = 2 * np.arcsin(np.linalg.norm(x[2:]) / np.linalg.norm(x))\n",
        "\n",
        "    return np.array([beta2, -beta1 / 2, beta1 / 2, -beta0 / 2, beta0 / 2])\n",
        "\n",
        "#prepare state\n",
        "def state_preparation(a):\n",
        "    qml.RY(a[0], wires=0)\n",
        "\n",
        "    qml.CNOT(wires=[0, 1])\n",
        "    qml.RY(a[1], wires=1)\n",
        "    qml.CNOT(wires=[0, 1])\n",
        "    qml.RY(a[2], wires=1)\n",
        "\n",
        "    qml.PauliX(wires=0)\n",
        "    qml.CNOT(wires=[0, 1])\n",
        "    qml.RY(a[3], wires=1)\n",
        "    qml.CNOT(wires=[0, 1])\n",
        "    qml.RY(a[4], wires=1)\n",
        "    qml.PauliX(wires=0)"
      ],
      "metadata": {
        "id": "r21Qw8lWQEet"
      },
      "execution_count": null,
      "outputs": []
    },
    {
      "cell_type": "code",
      "source": [
        "#check if method computes the correct angles to prepare the desired state\n",
        "x = np.array([0.53896774, 0.79503606, 0.27826503, 0.0], requires_grad=False)\n",
        "ang = get_angles(x)\n",
        "\n",
        "\n",
        "@qml.qnode(dev)\n",
        "def test(angles):\n",
        "    #can be replaced with qml.StatePrep(x, wires=[0, 1])\n",
        "    state_preparation(angles)\n",
        "\n",
        "    return qml.state()\n",
        "\n",
        "\n",
        "state = test(ang)\n",
        "\n",
        "print(\"x               : \", np.round(x, 6))\n",
        "print(\"angles          : \", np.round(ang, 6))\n",
        "print(\"amplitude vector: \", np.round(np.real(state), 6))"
      ],
      "metadata": {
        "colab": {
          "base_uri": "https://localhost:8080/"
        },
        "id": "LcQY8fXQk8Df",
        "outputId": "b38948e1-8bd5-49a8-8d89-0ca30483b068"
      },
      "execution_count": null,
      "outputs": [
        {
          "output_type": "stream",
          "name": "stdout",
          "text": [
            "x               :  [0.538968 0.795036 0.278265 0.      ]\n",
            "angles          :  [ 0.563975 -0.        0.       -0.975046  0.975046]\n",
            "amplitude vector:  [ 0.538968  0.795036  0.278265 -0.      ]\n"
          ]
        }
      ]
    },
    {
      "cell_type": "code",
      "source": [
        "#define layer for circuit\n",
        "def layer(layer_weights):\n",
        "    for wire in range(2):\n",
        "        qml.Rot(*layer_weights[wire], wires=wire)\n",
        "    qml.CNOT(wires=[0, 1])\n",
        "\n",
        "#define cost function\n",
        "def cost(weights, bias, X, Y):\n",
        "    # Transpose the batch of input data in order to make the indexing\n",
        "    # in state_preparation work\n",
        "    predictions = variational_classifier(weights, bias, X.T)\n",
        "    return square_loss(Y, predictions)"
      ],
      "metadata": {
        "id": "x6rnpbWDlefG"
      },
      "execution_count": null,
      "outputs": []
    },
    {
      "cell_type": "code",
      "source": [
        "#download dataset and save it\n",
        "import urllib.request\n",
        "url = 'https://raw.githubusercontent.com/XanaduAI/qml/master/_static/demonstration_assets/variational_classifier/data/iris_classes1and2_scaled.txt'\n",
        "file_path = 'variational_classifier/data/iris_classes1and2_scaled.txt'\n",
        "\n",
        "\n",
        "response = urllib.request.urlopen(url)\n",
        "data = response.read().decode('utf-8')\n",
        "\n",
        "\n",
        "# Write the data to a text file\n",
        "with open(file_path, 'w') as file:\n",
        "    file.write(data)\n",
        "\n",
        "print(f'Data saved to {file_path}')"
      ],
      "metadata": {
        "colab": {
          "base_uri": "https://localhost:8080/"
        },
        "id": "M-ObxDTEnMZH",
        "outputId": "5635ee6e-fc4a-49dc-d452-fbfeb172a8f0"
      },
      "execution_count": null,
      "outputs": [
        {
          "output_type": "stream",
          "name": "stdout",
          "text": [
            "Data saved to variational_classifier/data/iris_classes1and2_scaled.txt\n"
          ]
        }
      ]
    },
    {
      "cell_type": "code",
      "source": [
        "#load dataset\n",
        "data = np.loadtxt(\"variational_classifier/data/iris_classes1and2_scaled.txt\")\n",
        "X = data[:, 0:2]\n",
        "print(f\"First X sample (original)  : {X[0]}\")\n",
        "\n",
        "\n",
        "#add latent dimensions, so that normalization does not erases\n",
        "#any information on the length of the vectors and classes\n",
        "#separated by this feature will not be distinguishable.\n",
        "\n",
        "# pad the vectors to size 2^2=4 with constant values\n",
        "# to make the data point match the size of the state vector in the quantum device\n",
        "padding = np.ones((len(X), 2)) * 0.1\n",
        "X_pad = np.c_[X, padding]\n",
        "print(f\"First X sample (padded)    : {X_pad[0]}\")\n",
        "\n",
        "# normalize each input\n",
        "normalization = np.sqrt(np.sum(X_pad**2, -1))\n",
        "X_norm = (X_pad.T / normalization).T\n",
        "print(f\"First X sample (normalized): {X_norm[0]}\")\n",
        "\n",
        "# translate the inputs x to rotation angles\n",
        "# the angles for state preparation are the features\n",
        "features = np.array([get_angles(x) for x in X_norm], requires_grad=False)\n",
        "print(f\"First features sample      : {features[0]}\")\n",
        "\n",
        "Y = data[:, -1]"
      ],
      "metadata": {
        "colab": {
          "base_uri": "https://localhost:8080/"
        },
        "id": "8Vtc6ScBn4dW",
        "outputId": "bb253053-1c50-4911-a094-1ca0fd9316cd"
      },
      "execution_count": null,
      "outputs": [
        {
          "output_type": "stream",
          "name": "stdout",
          "text": [
            "First X sample (original)  : [0.4  0.75]\n",
            "First X sample (padded)    : [0.4  0.75 0.1  0.1 ]\n",
            "First X sample (normalized): [0.46420708 0.87038828 0.11605177 0.11605177]\n",
            "First features sample      : [ 0.32973573 -0.78539816  0.78539816 -1.080839    1.080839  ]\n"
          ]
        }
      ]
    },
    {
      "cell_type": "code",
      "source": [
        "#plot stages of preprocessing\n",
        "import matplotlib.pyplot as plt\n",
        "\n",
        "plt.figure()\n",
        "plt.scatter(X[:, 0][Y == 1], X[:, 1][Y == 1], c=\"b\", marker=\"o\", ec=\"k\")\n",
        "plt.scatter(X[:, 0][Y == -1], X[:, 1][Y == -1], c=\"r\", marker=\"o\", ec=\"k\")\n",
        "plt.title(\"Original data\")\n",
        "plt.show()\n",
        "print()\n",
        "plt.figure()\n",
        "dim1 = 0\n",
        "dim2 = 1\n",
        "plt.scatter(X_norm[:, dim1][Y == 1], X_norm[:, dim2][Y == 1], c=\"b\", marker=\"o\", ec=\"k\")\n",
        "plt.scatter(X_norm[:, dim1][Y == -1], X_norm[:, dim2][Y == -1], c=\"r\", marker=\"o\", ec=\"k\")\n",
        "plt.title(f\"Padded and normalised data (dims {dim1} and {dim2})\")\n",
        "plt.show()\n",
        "print()\n",
        "plt.figure()\n",
        "dim1 = 0\n",
        "dim2 = 3\n",
        "plt.scatter(features[:, dim1][Y == 1], features[:, dim2][Y == 1], c=\"b\", marker=\"o\", ec=\"k\")\n",
        "plt.scatter(features[:, dim1][Y == -1], features[:, dim2][Y == -1], c=\"r\", marker=\"o\", ec=\"k\")\n",
        "plt.title(f\"Feature vectors (dims {dim1} and {dim2})\")\n",
        "plt.show()"
      ],
      "metadata": {
        "colab": {
          "base_uri": "https://localhost:8080/",
          "height": 1000
        },
        "id": "gafgzIlspuyh",
        "outputId": "f2dcb250-fb29-4dd1-f835-2e0d3bb0782b"
      },
      "execution_count": null,
      "outputs": [
        {
          "output_type": "display_data",
          "data": {
            "text/plain": [
              "<Figure size 640x480 with 1 Axes>"
            ],
            "image/png": "[encoded data removed]"
          },
          "metadata": {}
        },
        {
          "output_type": "stream",
          "name": "stdout",
          "text": [
            "\n"
          ]
        },
        {
          "output_type": "display_data",
          "data": {
            "text/plain": [
              "<Figure size 640x480 with 1 Axes>"
            ],
            "image/png": "[encoded data removed]"
          },
          "metadata": {}
        },
        {
          "output_type": "stream",
          "name": "stdout",
          "text": [
            "\n"
          ]
        },
        {
          "output_type": "display_data",
          "data": {
            "text/plain": [
              "<Figure size 640x480 with 1 Axes>"
            ],
            "image/png": "[encoded data removed]"
          },
          "metadata": {}
        }
      ]
    },
    {
      "cell_type": "code",
      "source": [
        "#split data into training and validation set to monitor the generalization\n",
        "np.random.seed(0)\n",
        "num_data = len(Y)\n",
        "num_train = int(0.75 * num_data)\n",
        "index = np.random.permutation(range(num_data))\n",
        "feats_train = features[index[:num_train]]\n",
        "Y_train = Y[index[:num_train]]\n",
        "feats_val = features[index[num_train:]]\n",
        "Y_val = Y[index[num_train:]]\n",
        "\n",
        "# We need these later for plotting\n",
        "X_train = X[index[:num_train]]\n",
        "X_val = X[index[num_train:]]"
      ],
      "metadata": {
        "id": "vRQbYpQPrJT4"
      },
      "execution_count": null,
      "outputs": []
    },
    {
      "cell_type": "code",
      "source": [
        "#initiliaze variables\n",
        "#number of qubits\n",
        "num_qubits = 2\n",
        "# number of layers\n",
        "num_layers = 6\n",
        "\n",
        "weights_init = 0.01 * np.random.randn(num_layers, num_qubits, 3, requires_grad=True)\n",
        "bias_init = np.array(0.0, requires_grad=True)\n",
        "print(\"Weights:\", weights_init)\n",
        "print(\"Bias: \", bias_init)"
      ],
      "metadata": {
        "colab": {
          "base_uri": "https://localhost:8080/"
        },
        "id": "cSyX9dZireOs",
        "outputId": "4a5f191f-f255-46c6-f925-25f01ca1edf5"
      },
      "execution_count": null,
      "outputs": [
        {
          "output_type": "stream",
          "name": "stdout",
          "text": [
            "Weights: [[[ 9.37558842e-03 -2.54608092e-03  9.73598712e-03]\n",
            "  [ 2.07282772e-03  1.09964197e-02  9.39896981e-03]]\n",
            "\n",
            " [[ 6.06389001e-03  1.76084071e-05 -9.90160143e-03]\n",
            "  [ 1.87239408e-02 -2.41073590e-03  5.33449070e-04]]\n",
            "\n",
            " [[ 1.03081595e-02 -1.27698899e-02  8.37719765e-03]\n",
            "  [-1.49011141e-02 -1.07021500e-02 -2.09128617e-03]]\n",
            "\n",
            " [[ 6.04572277e-03 -1.74305823e-02  1.52422681e-02]\n",
            "  [ 1.86357532e-02  1.29137792e-02  1.30069627e-02]]\n",
            "\n",
            " [[ 9.18202826e-03 -1.58800472e-03 -9.64063359e-03]\n",
            "  [-1.99077882e-02  8.97307269e-04  1.14853880e-03]]\n",
            "\n",
            " [[-5.85815182e-03  2.98772038e-03  2.22259902e-03]\n",
            "  [ 4.35182968e-03 -4.57480991e-04  4.98984142e-04]]]\n",
            "Bias:  0.0\n"
          ]
        }
      ]
    },
    {
      "cell_type": "code",
      "source": [
        "#define optimizer\n",
        "opt = NesterovMomentumOptimizer(0.01)\n",
        "#define batch size\n",
        "batch_size = 5\n",
        "\n",
        "# train the variational classifier\n",
        "weights = weights_init\n",
        "bias = bias_init\n",
        "for it in range(60):\n",
        "    # Update the weights by one optimizer step\n",
        "    batch_index = np.random.randint(0, num_train, (batch_size,))\n",
        "    feats_train_batch = feats_train[batch_index]\n",
        "    Y_train_batch = Y_train[batch_index]\n",
        "    weights, bias, _, _ = opt.step(cost, weights, bias, feats_train_batch, Y_train_batch)\n",
        "\n",
        "    # Compute predictions on train and validation set\n",
        "    predictions_train = np.sign(variational_classifier(weights, bias, feats_train.T))\n",
        "    predictions_val = np.sign(variational_classifier(weights, bias, feats_val.T))\n",
        "\n",
        "    # Compute accuracy on train and validation set\n",
        "    acc_train = accuracy(Y_train, predictions_train)\n",
        "    acc_val = accuracy(Y_val, predictions_val)\n",
        "\n",
        "    if (it + 1) % 2 == 0:\n",
        "        _cost = cost(weights, bias, features, Y)\n",
        "        print(\n",
        "            f\"Iter: {it + 1:5d} | Cost: {_cost:0.7f} | \"\n",
        "            f\"Acc train: {acc_train:0.7f} | Acc validation: {acc_val:0.7f}\"\n",
        "        )"
      ],
      "metadata": {
        "colab": {
          "base_uri": "https://localhost:8080/"
        },
        "id": "YGlo5UeBrssc",
        "outputId": "69f5c8c0-430c-4197-fe74-9fa426258329"
      },
      "execution_count": null,
      "outputs": [
        {
          "output_type": "stream",
          "name": "stdout",
          "text": [
            "Iter:     2 | Cost: 1.6889920 | Acc train: 0.4800000 | Acc validation: 0.5600000\n",
            "Iter:     4 | Cost: 1.5252915 | Acc train: 0.4933333 | Acc validation: 0.5600000\n",
            "Iter:     6 | Cost: 1.2971739 | Acc train: 0.4933333 | Acc validation: 0.5600000\n",
            "Iter:     8 | Cost: 1.0871910 | Acc train: 0.4800000 | Acc validation: 0.5600000\n",
            "Iter:    10 | Cost: 0.9700325 | Acc train: 0.6133333 | Acc validation: 0.6000000\n",
            "Iter:    12 | Cost: 1.0421679 | Acc train: 0.5200000 | Acc validation: 0.4400000\n",
            "Iter:    14 | Cost: 1.1839285 | Acc train: 0.5200000 | Acc validation: 0.4400000\n",
            "Iter:    16 | Cost: 1.0548761 | Acc train: 0.5200000 | Acc validation: 0.4400000\n",
            "Iter:    18 | Cost: 0.8378999 | Acc train: 0.5866667 | Acc validation: 0.5600000\n",
            "Iter:    20 | Cost: 0.7469437 | Acc train: 0.7600000 | Acc validation: 0.7600000\n",
            "Iter:    22 | Cost: 0.6772657 | Acc train: 0.8400000 | Acc validation: 0.8000000\n",
            "Iter:    24 | Cost: 0.5963608 | Acc train: 0.8933333 | Acc validation: 0.8400000\n",
            "Iter:    26 | Cost: 0.5166895 | Acc train: 0.9066667 | Acc validation: 0.9600000\n",
            "Iter:    28 | Cost: 0.4428719 | Acc train: 0.9200000 | Acc validation: 0.9600000\n",
            "Iter:    30 | Cost: 0.3743581 | Acc train: 0.9200000 | Acc validation: 0.9600000\n",
            "Iter:    32 | Cost: 0.3237849 | Acc train: 0.9600000 | Acc validation: 1.0000000\n",
            "Iter:    34 | Cost: 0.2803717 | Acc train: 0.9866667 | Acc validation: 1.0000000\n",
            "Iter:    36 | Cost: 0.2526002 | Acc train: 1.0000000 | Acc validation: 1.0000000\n",
            "Iter:    38 | Cost: 0.2393299 | Acc train: 1.0000000 | Acc validation: 1.0000000\n",
            "Iter:    40 | Cost: 0.2342538 | Acc train: 1.0000000 | Acc validation: 1.0000000\n",
            "Iter:    42 | Cost: 0.2321924 | Acc train: 1.0000000 | Acc validation: 1.0000000\n",
            "Iter:    44 | Cost: 0.2311828 | Acc train: 1.0000000 | Acc validation: 1.0000000\n",
            "Iter:    46 | Cost: 0.2293721 | Acc train: 1.0000000 | Acc validation: 1.0000000\n",
            "Iter:    48 | Cost: 0.2329943 | Acc train: 1.0000000 | Acc validation: 1.0000000\n",
            "Iter:    50 | Cost: 0.2297833 | Acc train: 1.0000000 | Acc validation: 1.0000000\n",
            "Iter:    52 | Cost: 0.2243369 | Acc train: 1.0000000 | Acc validation: 1.0000000\n",
            "Iter:    54 | Cost: 0.2316795 | Acc train: 0.9866667 | Acc validation: 1.0000000\n",
            "Iter:    56 | Cost: 0.2452739 | Acc train: 0.9866667 | Acc validation: 1.0000000\n",
            "Iter:    58 | Cost: 0.2399409 | Acc train: 0.9866667 | Acc validation: 1.0000000\n",
            "Iter:    60 | Cost: 0.2206840 | Acc train: 1.0000000 | Acc validation: 1.0000000\n"
          ]
        }
      ]
    },
    {
      "cell_type": "code",
      "source": [
        "#plot continuous output of the variational classifier for the first two dimensions of the Iris data set\n",
        "plt.figure()\n",
        "cm = plt.cm.RdBu\n",
        "\n",
        "# make data for decision regions\n",
        "xx, yy = np.meshgrid(np.linspace(0.0, 1.5, 30), np.linspace(0.0, 1.5, 30))\n",
        "X_grid = [np.array([x, y]) for x, y in zip(xx.flatten(), yy.flatten())]\n",
        "\n",
        "# preprocess grid points like data inputs above\n",
        "padding = 0.1 * np.ones((len(X_grid), 2))\n",
        "X_grid = np.c_[X_grid, padding]  # pad each input\n",
        "normalization = np.sqrt(np.sum(X_grid**2, -1))\n",
        "X_grid = (X_grid.T / normalization).T  # normalize each input\n",
        "features_grid = np.array([get_angles(x) for x in X_grid])  # angles are new features\n",
        "predictions_grid = variational_classifier(weights, bias, features_grid.T)\n",
        "Z = np.reshape(predictions_grid, xx.shape)\n",
        "\n",
        "# plot decision regions\n",
        "levels = np.arange(-1, 1.1, 0.1)\n",
        "cnt = plt.contourf(xx, yy, Z, levels=levels, cmap=cm, alpha=0.8, extend=\"both\")\n",
        "plt.contour(xx, yy, Z, levels=[0.0], colors=(\"black\",), linestyles=(\"--\",), linewidths=(0.8,))\n",
        "plt.colorbar(cnt, ticks=[-1, 0, 1])\n",
        "\n",
        "# plot data\n",
        "for color, label in zip([\"b\", \"r\"], [1, -1]):\n",
        "    plot_x = X_train[:, 0][Y_train == label]\n",
        "    plot_y = X_train[:, 1][Y_train == label]\n",
        "    plt.scatter(plot_x, plot_y, c=color, marker=\"o\", ec=\"k\", label=f\"class {label} train\")\n",
        "    plot_x = (X_val[:, 0][Y_val == label],)\n",
        "    plot_y = (X_val[:, 1][Y_val == label],)\n",
        "    plt.scatter(plot_x, plot_y, c=color, marker=\"^\", ec=\"k\", label=f\"class {label} validation\")\n",
        "\n",
        "plt.legend()\n",
        "plt.show()"
      ],
      "metadata": {
        "colab": {
          "base_uri": "https://localhost:8080/",
          "height": 430
        },
        "id": "C0u5rzsotPl2",
        "outputId": "e80271d8-2908-409f-80d3-7faf73d9f2f7"
      },
      "execution_count": null,
      "outputs": [
        {
          "output_type": "display_data",
          "data": {
            "text/plain": [
              "<Figure size 640x480 with 2 Axes>"
            ],
            "image/png": "[encoded data removed]"
          },
          "metadata": {}
        }
      ]
    }
  ]
}